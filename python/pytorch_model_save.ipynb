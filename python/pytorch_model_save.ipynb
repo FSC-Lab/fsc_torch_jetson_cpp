{
 "cells": [
  {
   "cell_type": "code",
   "execution_count": 1,
   "metadata": {},
   "outputs": [],
   "source": [
    "import torch\n",
    "import torch.nn as nn\n",
    "import torch.optim as optim\n",
    "import numpy as np"
   ]
  },
  {
   "cell_type": "code",
   "execution_count": 2,
   "metadata": {},
   "outputs": [],
   "source": [
    "# Define the reference function\n",
    "def custom_function(x):\n",
    "    return np.sin(x) + np.cos(x)"
   ]
  },
  {
   "cell_type": "code",
   "execution_count": 3,
   "metadata": {},
   "outputs": [],
   "source": [
    "class ArrayNet(nn.Module):\n",
    "    def __init__(self, input_size, hidden_size, output_size):\n",
    "        super(ArrayNet, self).__init__()\n",
    "        self.fc1 = nn.Linear(input_size, hidden_size)\n",
    "        self.fc2 = nn.Linear(hidden_size, output_size)\n",
    "    \n",
    "    def forward(self, x):\n",
    "        x = torch.relu(self.fc1(x))\n",
    "        x = self.fc2(x)\n",
    "        return x"
   ]
  },
  {
   "cell_type": "code",
   "execution_count": 4,
   "metadata": {},
   "outputs": [],
   "source": [
    "# Example usage:\n",
    "input_size = 5\n",
    "hidden_size = 10\n",
    "output_size = 5\n",
    "\n",
    "# Create instance of the network\n",
    "net = ArrayNet(input_size, hidden_size, output_size)\n",
    "\n",
    "# Define loss function and optimizer\n",
    "criterion = nn.MSELoss()\n",
    "optimizer = optim.SGD(net.parameters(), lr=0.01)"
   ]
  },
  {
   "cell_type": "code",
   "execution_count": 5,
   "metadata": {},
   "outputs": [],
   "source": [
    "\n",
    "# Generate some dummy data using the user-defined function\n",
    "numOfdata = 100\n",
    "input_data = torch.randn(numOfdata, input_size)  # 100 samples, 5 features each\n",
    "target_data = torch.zeros(numOfdata, output_size)\n",
    "for i in range(numOfdata):\n",
    "    target_data[i] = torch.from_numpy(custom_function(input_data[i].numpy()))"
   ]
  },
  {
   "cell_type": "code",
   "execution_count": 6,
   "metadata": {},
   "outputs": [
    {
     "name": "stdout",
     "output_type": "stream",
     "text": [
      "Epoch [100/5000], Loss: 0.6593\n",
      "Epoch [200/5000], Loss: 0.5550\n",
      "Epoch [300/5000], Loss: 0.4863\n",
      "Epoch [400/5000], Loss: 0.4350\n",
      "Epoch [500/5000], Loss: 0.3943\n",
      "Epoch [600/5000], Loss: 0.3598\n",
      "Epoch [700/5000], Loss: 0.3297\n",
      "Epoch [800/5000], Loss: 0.3031\n",
      "Epoch [900/5000], Loss: 0.2791\n",
      "Epoch [1000/5000], Loss: 0.2573\n",
      "Epoch [1100/5000], Loss: 0.2378\n",
      "Epoch [1200/5000], Loss: 0.2210\n",
      "Epoch [1300/5000], Loss: 0.2070\n",
      "Epoch [1400/5000], Loss: 0.1949\n",
      "Epoch [1500/5000], Loss: 0.1840\n",
      "Epoch [1600/5000], Loss: 0.1742\n",
      "Epoch [1700/5000], Loss: 0.1653\n",
      "Epoch [1800/5000], Loss: 0.1571\n",
      "Epoch [1900/5000], Loss: 0.1496\n",
      "Epoch [2000/5000], Loss: 0.1426\n",
      "Epoch [2100/5000], Loss: 0.1362\n",
      "Epoch [2200/5000], Loss: 0.1302\n",
      "Epoch [2300/5000], Loss: 0.1246\n",
      "Epoch [2400/5000], Loss: 0.1193\n",
      "Epoch [2500/5000], Loss: 0.1144\n",
      "Epoch [2600/5000], Loss: 0.1099\n",
      "Epoch [2700/5000], Loss: 0.1058\n",
      "Epoch [2800/5000], Loss: 0.1020\n",
      "Epoch [2900/5000], Loss: 0.0984\n",
      "Epoch [3000/5000], Loss: 0.0951\n",
      "Epoch [3100/5000], Loss: 0.0921\n",
      "Epoch [3200/5000], Loss: 0.0894\n",
      "Epoch [3300/5000], Loss: 0.0870\n",
      "Epoch [3400/5000], Loss: 0.0848\n",
      "Epoch [3500/5000], Loss: 0.0828\n",
      "Epoch [3600/5000], Loss: 0.0809\n",
      "Epoch [3700/5000], Loss: 0.0791\n",
      "Epoch [3800/5000], Loss: 0.0775\n",
      "Epoch [3900/5000], Loss: 0.0759\n",
      "Epoch [4000/5000], Loss: 0.0744\n",
      "Epoch [4100/5000], Loss: 0.0730\n",
      "Epoch [4200/5000], Loss: 0.0716\n",
      "Epoch [4300/5000], Loss: 0.0704\n",
      "Epoch [4400/5000], Loss: 0.0693\n",
      "Epoch [4500/5000], Loss: 0.0681\n",
      "Epoch [4600/5000], Loss: 0.0670\n",
      "Epoch [4700/5000], Loss: 0.0659\n",
      "Epoch [4800/5000], Loss: 0.0647\n",
      "Epoch [4900/5000], Loss: 0.0636\n",
      "Epoch [5000/5000], Loss: 0.0626\n"
     ]
    }
   ],
   "source": [
    "# Train the network\n",
    "num_epochs = 5000\n",
    "for epoch in range(num_epochs):\n",
    "    # Forward pass\n",
    "    outputs = net(input_data)\n",
    "    loss = criterion(outputs, target_data)\n",
    "    \n",
    "    # Backward pass and optimization\n",
    "    optimizer.zero_grad()\n",
    "    loss.backward()\n",
    "    optimizer.step()\n",
    "    \n",
    "    if (epoch+1) % 100 == 0:\n",
    "        print(f'Epoch [{epoch+1}/{num_epochs}], Loss: {loss.item():.4f}')"
   ]
  },
  {
   "cell_type": "code",
   "execution_count": 7,
   "metadata": {},
   "outputs": [
    {
     "name": "stdout",
     "output_type": "stream",
     "text": [
      "[ 0.08520448  1.0460396  -0.7343814  -0.7779876   1.4142113 ]\n"
     ]
    },
    {
     "data": {
      "text/plain": [
       "ArrayNet(\n",
       "  (fc1): Linear(in_features=5, out_features=10, bias=True)\n",
       "  (fc2): Linear(in_features=10, out_features=5, bias=True)\n",
       ")"
      ]
     },
     "execution_count": 7,
     "metadata": {},
     "output_type": "execute_result"
    }
   ],
   "source": [
    "# Assuming 'net' is the trained network from the previous code snippet\n",
    "\n",
    "# Generate new input data for prediction\n",
    "new_input_data = torch.randn(1, input_size)  # 1 sample, 5 features each\n",
    "\n",
    "# generate test\n",
    "test_res = custom_function(new_input_data[0].numpy())\n",
    "\n",
    "print(test_res)\n",
    "\n",
    "# Put the network in evaluation mode\n",
    "net.eval()"
   ]
  },
  {
   "cell_type": "code",
   "execution_count": 8,
   "metadata": {},
   "outputs": [
    {
     "name": "stdout",
     "output_type": "stream",
     "text": [
      "Prediction: tensor([[ 0.0783,  0.8471, -0.4637, -0.5465,  1.2608]])\n"
     ]
    }
   ],
   "source": [
    "# Make prediction\n",
    "with torch.no_grad():\n",
    "    prediction = net(new_input_data)\n",
    "\n",
    "print(\"Prediction:\", prediction)"
   ]
  },
  {
   "cell_type": "code",
   "execution_count": 9,
   "metadata": {},
   "outputs": [],
   "source": [
    "# tracing\n",
    "traced_script_module = torch.jit.trace(net, new_input_data)"
   ]
  },
  {
   "cell_type": "code",
   "execution_count": 10,
   "metadata": {},
   "outputs": [
    {
     "name": "stdout",
     "output_type": "stream",
     "text": [
      "Model saved to array_net_model.pt\n"
     ]
    }
   ],
   "source": [
    "# Assuming 'net' is the trained network from the previous code snippet\n",
    "\n",
    "# Specify the file path where you want to save the model\n",
    "model_path = \"array_net_model.pt\"\n",
    "\n",
    "# Save the model\n",
    "# torch.save(net.state_dict(), model_path)\n",
    "\n",
    "traced_script_module.save(model_path)\n",
    "\n",
    "print(f\"Model saved to {model_path}\")"
   ]
  }
 ],
 "metadata": {
  "kernelspec": {
   "display_name": "machine_learning",
   "language": "python",
   "name": "python3"
  },
  "language_info": {
   "codemirror_mode": {
    "name": "ipython",
    "version": 3
   },
   "file_extension": ".py",
   "mimetype": "text/x-python",
   "name": "python",
   "nbconvert_exporter": "python",
   "pygments_lexer": "ipython3",
   "version": "3.11.4"
  }
 },
 "nbformat": 4,
 "nbformat_minor": 2
}
